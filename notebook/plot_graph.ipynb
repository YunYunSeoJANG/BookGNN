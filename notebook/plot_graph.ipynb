{
 "cells": [
  {
   "cell_type": "code",
   "execution_count": null,
   "metadata": {},
   "outputs": [],
   "source": [
    "import pickle\n",
    "import matplotlib.pyplot as plt\n",
    "import numpy as np\n",
    "\n",
    "def detach_loss(stats): \n",
    "  return [loss.detach().cpu().numpy().item() for loss in stats]\n",
    "\n",
    "def plot_train_val_loss(stats_dict):\n",
    "  fig, ax = plt.subplots(1,1, figsize = (6, 4))\n",
    "  train_loss = detach_loss(stats_dict[\"train\"][\"loss\"])\n",
    "  val_loss = detach_loss(stats_dict[\"val\"][\"loss\"])\n",
    "  idx = np.arange(0, len(train_loss), 1)\n",
    "  ax.plot(idx, train_loss, label = \"train\")\n",
    "  ax.plot(idx, val_loss, label = \"val\")\n",
    "  ax.legend()\n",
    "  plt.show()\n",
    "\n",
    "def plot_recall(stats_dict):\n",
    "  fig, ax = plt.subplots(1,1, figsize = (6, 4))\n",
    "  recall = stats_dict[\"val\"][\"recall\"]\n",
    "  idx = np.arange(0, len(recall), 1)\n",
    "  ax.plot(idx, recall, label = \"recall\")\n",
    "  ax.legend()\n",
    "  plt.show()"
   ]
  },
  {
   "cell_type": "code",
   "execution_count": null,
   "metadata": {},
   "outputs": [],
   "source": [
    "conv_layers = [\"LGC\", \"GAT\", \"SAGE\"]\n",
    "neg_samps = [\"random\", \"hard\"]\n",
    "\n",
    "\n",
    "for conv_layer in conv_layers:\n",
    "    for neg_samp in neg_samps:\n",
    "        stats = pickle.load(open(f\"../model_stats/LGCN_{conv_layer}_4_e64_nodes17738__BPR_{neg_samp}.pkl\", \"rb\"))\n",
    "        print(f\"Conv Layer: {conv_layer}, Neg Samp: {neg_samp}\")\n",
    "        plot_train_val_loss(stats)\n",
    "        plot_recall(stats)"
   ]
  }
 ],
 "metadata": {
  "language_info": {
   "name": "python"
  }
 },
 "nbformat": 4,
 "nbformat_minor": 2
}
