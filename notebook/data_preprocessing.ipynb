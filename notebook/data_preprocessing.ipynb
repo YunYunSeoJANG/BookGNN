{
 "cells": [
  {
   "cell_type": "markdown",
   "metadata": {},
   "source": [
    "# 1. Preprocessing Books"
   ]
  },
  {
   "cell_type": "code",
   "execution_count": 59,
   "metadata": {},
   "outputs": [],
   "source": [
    "import json, pandas as pd\n",
    "\n",
    "with open('src\\goodreads_books_poetry.json') as f:\n",
    "\tdf = pd.DataFrame(json.loads(line) for line in f)\n",
    "\n",
    "aut=df.loc[:,'authors']\n",
    "ddf = pd.DataFrame(line for line in aut)\n",
    "aut = ddf.loc[:,0]\n",
    "ddf = pd.DataFrame(line for line in aut)\n",
    "ddf = ddf.loc[:,'author_id']\n",
    "#display(ddf)\n",
    "\n",
    "df.loc[:,'authors'] = ddf\n",
    "\n",
    "df = df.loc[:,['book_id', 'average_rating', 'ratings_count', 'authors', 'similar_books', 'title', 'url']]\n",
    "#display(df)\n",
    "\n",
    "df.to_json('datasets/books_poetry.json', orient='records', lines=True)"
   ]
  },
  {
   "cell_type": "markdown",
   "metadata": {},
   "source": [
    "# 2. Preprocessing Interactions"
   ]
  },
  {
   "cell_type": "code",
   "execution_count": 60,
   "metadata": {},
   "outputs": [],
   "source": [
    "import json, pandas as pd\n",
    "\n",
    "with open('src\\goodreads_interactions_poetry.json') as f:\n",
    "\tdf = pd.DataFrame(json.loads(line) for line in f)\n",
    "\n",
    "df = df.loc[:,['book_id', 'user_id', 'is_read', 'rating']]\n",
    "\n",
    "df.to_json('datasets/interactions_poetry.json', orient='records', lines=True)"
   ]
  }
 ],
 "metadata": {
  "kernelspec": {
   "display_name": "base",
   "language": "python",
   "name": "python3"
  },
  "language_info": {
   "codemirror_mode": {
    "name": "ipython",
    "version": 3
   },
   "file_extension": ".py",
   "mimetype": "text/x-python",
   "name": "python",
   "nbconvert_exporter": "python",
   "pygments_lexer": "ipython3",
   "version": "3.11.7"
  }
 },
 "nbformat": 4,
 "nbformat_minor": 2
}
